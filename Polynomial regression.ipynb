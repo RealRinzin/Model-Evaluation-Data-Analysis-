{
 "cells": [
  {
   "cell_type": "code",
   "execution_count": 1,
   "id": "74b435f5",
   "metadata": {},
   "outputs": [],
   "source": [
    "import matplotlib.pyplot as plt\n",
    "import numpy as np"
   ]
  },
  {
   "cell_type": "code",
   "execution_count": 18,
   "id": "7e821c32",
   "metadata": {},
   "outputs": [
    {
     "name": "stdout",
     "output_type": "stream",
     "text": [
      "          3         2\n",
      "-0.03032 x + 1.343 x - 15.54 x + 113.8\n"
     ]
    }
   ],
   "source": [
    "a = [1,2,3,5,6,7,8,9,10,12,13,14,15,16,18,19,21,22]\n",
    "b = [100,90,80,60,60,55,60,65,70,70,75,76,78,79,90,99,99,100]\n",
    "k=np.polyfit(a,b,3)\n",
    "# print(k)\n",
    "z=np.poly1d(k)\n",
    "print(z)"
   ]
  },
  {
   "cell_type": "code",
   "execution_count": 19,
   "id": "a062eaa0",
   "metadata": {},
   "outputs": [
    {
     "data": {
      "text/plain": [
       "array([ 0.        ,  0.51020408,  1.02040816,  1.53061224,  2.04081633,\n",
       "        2.55102041,  3.06122449,  3.57142857,  4.08163265,  4.59183673,\n",
       "        5.10204082,  5.6122449 ,  6.12244898,  6.63265306,  7.14285714,\n",
       "        7.65306122,  8.16326531,  8.67346939,  9.18367347,  9.69387755,\n",
       "       10.20408163, 10.71428571, 11.2244898 , 11.73469388, 12.24489796,\n",
       "       12.75510204, 13.26530612, 13.7755102 , 14.28571429, 14.79591837,\n",
       "       15.30612245, 15.81632653, 16.32653061, 16.83673469, 17.34693878,\n",
       "       17.85714286, 18.36734694, 18.87755102, 19.3877551 , 19.89795918,\n",
       "       20.40816327, 20.91836735, 21.42857143, 21.93877551, 22.44897959,\n",
       "       22.95918367, 23.46938776, 23.97959184, 24.48979592, 25.        ])"
      ]
     },
     "execution_count": 19,
     "metadata": {},
     "output_type": "execute_result"
    }
   ],
   "source": [
    "new_x = np.linspace(0, 25, 50)\n",
    "new_x"
   ]
  },
  {
   "cell_type": "code",
   "execution_count": 20,
   "id": "1f3dfd1a",
   "metadata": {},
   "outputs": [
    {
     "data": {
      "text/plain": [
       "array([113.76803677, 106.1859841 ,  99.27913053,  93.02331448,\n",
       "        87.39437442,  82.36814878,  77.92047603,  74.02719459,\n",
       "        70.66414293,  67.80715949,  65.43208272,  63.51475106,\n",
       "        62.03100297,  60.95667688,  60.26761126,  59.93964454,\n",
       "        59.94861518,  60.27036162,  60.88072231,  61.7555357 ,\n",
       "        62.87064024,  64.20187437,  65.72507654,  67.41608519,\n",
       "        69.25073879,  71.20487577,  73.25433459,  75.37495368,\n",
       "        77.5425715 ,  79.7330265 ,  81.92215712,  84.08580181,\n",
       "        86.19979903,  88.23998721,  90.1822048 ,  92.00229026,\n",
       "        93.67608202,  95.17941855,  96.48813828,  97.57807967,\n",
       "        98.42508116,  99.00498119,  99.29361823,  99.26683071,\n",
       "        98.90045708,  98.17033579,  97.05230529,  95.52220403,\n",
       "        93.55587045,  91.129143  ])"
      ]
     },
     "execution_count": 20,
     "metadata": {},
     "output_type": "execute_result"
    }
   ],
   "source": [
    "new_y=z(new_x)\n",
    "new_y"
   ]
  },
  {
   "cell_type": "code",
   "execution_count": 21,
   "id": "09bdeb8a",
   "metadata": {},
   "outputs": [
    {
     "data": {
      "image/png": "[encoded data removed]",
      "text/plain": [
       "<Figure size 432x288 with 1 Axes>"
      ]
     },
     "metadata": {
      "needs_background": "light"
     },
     "output_type": "display_data"
    }
   ],
   "source": [
    "plt.scatter(a,b)\n",
    "plt.plot(new_x, new_y,'r')\n",
    "plt.show()"
   ]
  },
  {
   "cell_type": "code",
   "execution_count": null,
   "id": "aa9df6c2",
   "metadata": {},
   "outputs": [],
   "source": []
  },
  {
   "cell_type": "code",
   "execution_count": null,
   "id": "e9ea8f20",
   "metadata": {},
   "outputs": [],
   "source": []
  },
  {
   "cell_type": "code",
   "execution_count": null,
   "id": "7169c558",
   "metadata": {},
   "outputs": [],
   "source": []
  },
  {
   "cell_type": "code",
   "execution_count": null,
   "id": "ef9918b1",
   "metadata": {},
   "outputs": [],
   "source": []
  },
  {
   "cell_type": "code",
   "execution_count": null,
   "id": "7c740001",
   "metadata": {},
   "outputs": [],
   "source": []
  },
  {
   "cell_type": "code",
   "execution_count": null,
   "id": "7d2f03be",
   "metadata": {},
   "outputs": [],
   "source": []
  },
  {
   "cell_type": "code",
   "execution_count": null,
   "id": "ffef0b23",
   "metadata": {},
   "outputs": [],
   "source": []
  },
  {
   "cell_type": "code",
   "execution_count": null,
   "id": "8eb953e6",
   "metadata": {},
   "outputs": [],
   "source": []
  },
  {
   "cell_type": "code",
   "execution_count": null,
   "id": "b5cb6a20",
   "metadata": {},
   "outputs": [],
   "source": [
    "# Generate some example data\n",
    "x = np.array([0, 1, 2, 3, 4, 5, 6, 7, 8, 9, 10])\n",
    "y = np.array([1, 3, 2, 5, 7, 8, 8, 9, 10, 12, 13])\n",
    "\n",
    "# Generate 100 evenly spaced x-coordinates\n",
    "x_new = np.linspace(0, 10, 100)\n",
    "\n",
    "# Fit a quadratic polynomial to the data\n",
    "coefficients = np.polyfit(x, y, 2)\n",
    "\n",
    "# Evaluate the polynomial at the new x-coordinates\n",
    "y_new = np.polyval(coefficients, x_new)\n",
    "\n",
    "# Plot the data and the polynomial curve\n",
    "plt.plot(x, y, 'o', label='data')\n",
    "plt.plot(x_new, y_new, label='quadratic fit')\n",
    "plt.legend()\n",
    "plt.show()"
   ]
  },
  {
   "cell_type": "code",
   "execution_count": null,
   "id": "ad814ba4",
   "metadata": {},
   "outputs": [],
   "source": []
  },
  {
   "cell_type": "code",
   "execution_count": null,
   "id": "fc4c8af9",
   "metadata": {},
   "outputs": [],
   "source": []
  }
 ],
 "metadata": {
  "kernelspec": {
   "display_name": "Python 3",
   "language": "python",
   "name": "python3"
  },
  "language_info": {
   "codemirror_mode": {
    "name": "ipython",
    "version": 3
   },
   "file_extension": ".py",
   "mimetype": "text/x-python",
   "name": "python",
   "nbconvert_exporter": "python",
   "pygments_lexer": "ipython3",
   "version": "3.8.8"
  }
 },
 "nbformat": 4,
 "nbformat_minor": 5
}
